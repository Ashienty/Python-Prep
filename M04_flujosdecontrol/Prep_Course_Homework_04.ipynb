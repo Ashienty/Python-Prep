{
 "cells": [
  {
   "attachments": {},
   "cell_type": "markdown",
   "metadata": {},
   "source": [
    "## Flujos de Control"
   ]
  },
  {
   "attachments": {},
   "cell_type": "markdown",
   "metadata": {},
   "source": [
    "1) Crear una variable que contenga un elemento del conjunto de números enteros y luego imprimir por pantalla si es mayor o menor a cero"
   ]
  },
  {
   "cell_type": "code",
   "execution_count": 1,
   "metadata": {},
   "outputs": [
    {
     "name": "stdout",
     "output_type": "stream",
     "text": [
      "mayor a cero\n"
     ]
    }
   ],
   "source": [
    "entero=5\n",
    "if entero>0 :\n",
    "    print(\"mayor a cero\")\n",
    "elif entero<0:\n",
    "    print(\"menor a cero\")\n",
    "else:\n",
    "    print(\"Igual a cero\")"
   ]
  },
  {
   "attachments": {},
   "cell_type": "markdown",
   "metadata": {},
   "source": [
    "2) Crear dos variables y un condicional que informe si son del mismo tipo de dato"
   ]
  },
  {
   "cell_type": "code",
   "execution_count": 3,
   "metadata": {},
   "outputs": [
    {
     "name": "stdout",
     "output_type": "stream",
     "text": [
      "mismo tipo de dato\n"
     ]
    }
   ],
   "source": [
    "variable1=1\n",
    "variable2=2\n",
    "if type(variable1)==type(variable2):\n",
    "    print(\"mismo tipo de dato\")"
   ]
  },
  {
   "attachments": {},
   "cell_type": "markdown",
   "metadata": {},
   "source": [
    "3) Para los valores enteros del 1 al 20, imprimir por pantalla si es par o impar"
   ]
  },
  {
   "cell_type": "code",
   "execution_count": 6,
   "metadata": {},
   "outputs": [
    {
     "name": "stdout",
     "output_type": "stream",
     "text": [
      "1 no es par\n",
      "2 es par\n",
      "3 no es par\n",
      "4 es par\n",
      "5 no es par\n",
      "6 es par\n",
      "7 no es par\n",
      "8 es par\n",
      "9 no es par\n",
      "10 es par\n",
      "11 no es par\n",
      "12 es par\n",
      "13 no es par\n",
      "14 es par\n",
      "15 no es par\n",
      "16 es par\n",
      "17 no es par\n",
      "18 es par\n",
      "19 no es par\n",
      "20 es par\n"
     ]
    }
   ],
   "source": [
    "i=0\n",
    "while i<20:\n",
    "    i+=1\n",
    "    if i%2==0:\n",
    "        print(i,\"es par\")\n",
    "    else:\n",
    "        print(i,\"no es par\")"
   ]
  },
  {
   "attachments": {},
   "cell_type": "markdown",
   "metadata": {},
   "source": [
    "4) En un ciclo for mostrar para los valores entre 0 y 5 el resultado de elevarlo a la potencia igual a 3"
   ]
  },
  {
   "cell_type": "code",
   "execution_count": 7,
   "metadata": {},
   "outputs": [
    {
     "name": "stdout",
     "output_type": "stream",
     "text": [
      "el valor  0 elevado a la tercera pontencia es  0\n",
      "el valor  1 elevado a la tercera pontencia es  1\n",
      "el valor  2 elevado a la tercera pontencia es  8\n",
      "el valor  3 elevado a la tercera pontencia es  27\n",
      "el valor  4 elevado a la tercera pontencia es  64\n"
     ]
    }
   ],
   "source": [
    "for i in range(5):\n",
    "    print(\"el valor \",i,\"elevado a la tercera pontencia es \", i**3)"
   ]
  },
  {
   "attachments": {},
   "cell_type": "markdown",
   "metadata": {},
   "source": [
    "5) Crear una variable que contenga un número entero y realizar un ciclo for la misma cantidad de ciclos"
   ]
  },
  {
   "cell_type": "code",
   "execution_count": 12,
   "metadata": {},
   "outputs": [],
   "source": [
    "ciclos=5\n",
    "while i<ciclos:\n",
    "    i+=1"
   ]
  },
  {
   "attachments": {},
   "cell_type": "markdown",
   "metadata": {},
   "source": [
    "6) Utilizar un ciclo while para realizar el factorial de un número guardado en una variable, sólo si la variable contiene un número entero mayor a 0"
   ]
  },
  {
   "cell_type": "code",
   "execution_count": 13,
   "metadata": {},
   "outputs": [
    {
     "name": "stdout",
     "output_type": "stream",
     "text": [
      "el factorial de 0 es 1\n"
     ]
    }
   ],
   "source": [
    "factor=0\n",
    "i=0\n",
    "factorial=1\n",
    "while  i <= factor:\n",
    "    i += 1\n",
    "    if factor==0:\n",
    "        print(\"el factorial de 0 es 1\")\n",
    "        break\n",
    "    factorial=factorial*i\n",
    "    \n",
    "    if i==factor:\n",
    "        print(\"factorial: \",factorial)\n",
    "        break\n"
   ]
  },
  {
   "attachments": {},
   "cell_type": "markdown",
   "metadata": {},
   "source": [
    "7) Crear un ciclo for dentro de un ciclo while"
   ]
  },
  {
   "cell_type": "code",
   "execution_count": 24,
   "metadata": {},
   "outputs": [],
   "source": [
    "while i<5:\n",
    "    i+=1\n",
    "    for j in range(2):\n",
    "        print(\"hola numero \",j)"
   ]
  },
  {
   "attachments": {},
   "cell_type": "markdown",
   "metadata": {},
   "source": [
    "8) Crear un ciclo while dentro de un ciclo for"
   ]
  },
  {
   "cell_type": "code",
   "execution_count": 26,
   "metadata": {},
   "outputs": [
    {
     "name": "stdout",
     "output_type": "stream",
     "text": [
      "aun menor a 3 \n",
      "aun menor a 3 \n",
      "aun menor a 3 \n"
     ]
    }
   ],
   "source": [
    "for i in range(3):\n",
    "    while i <3:\n",
    "        print(\"aun menor a 3 \")\n",
    "        break"
   ]
  },
  {
   "attachments": {},
   "cell_type": "markdown",
   "metadata": {},
   "source": []
  },
  {
   "cell_type": "code",
   "execution_count": 29,
   "metadata": {},
   "outputs": [],
   "source": [
    "for i in range(1,31):\n",
    "    primasidad = 0\n",
    "    for j in range(1,i+1):\n",
    "        if i%j==0:\n",
    "            primasidad+=1\n",
    "if primasidad==2:\n",
    "    print(\"el numero :\",i,' es primo')"
   ]
  },
  {
   "cell_type": "code",
   "execution_count": null,
   "metadata": {},
   "outputs": [],
   "source": []
  },
  {
   "cell_type": "code",
   "execution_count": null,
   "metadata": {},
   "outputs": [],
   "source": [
    "for i in range(1,31):\n",
    "    primasidad = 0\n",
    "    for j in range(1,i+1):\n",
    "        if i%j==0:\n",
    "            primasidad+=1\n",
    "    if primasidad==2:\n",
    "        print(\"el numero :\",i,' es primo')"
   ]
  },
  {
   "attachments": {},
   "cell_type": "markdown",
   "metadata": {},
   "source": [
    "10) ¿Se puede mejorar el proceso del punto 9? Utilizar las sentencias break y/ó continue para tal fin"
   ]
  },
  {
   "cell_type": "code",
   "execution_count": 30,
   "metadata": {},
   "outputs": [],
   "source": [
    "#es bastante simple y sin variables ingresables, si se pudieran poner variables a mano serian utiles , pero para un ejemplo tan especifico solo lo complicaria de mas\n",
    "#Simple es mejor que complejo."
   ]
  },
  {
   "attachments": {},
   "cell_type": "markdown",
   "metadata": {},
   "source": [
    "11) En los puntos 9 y 10, se diseño un código que encuentra números primos y además se lo optimizó. ¿Es posible saber en qué medida se optimizó?"
   ]
  },
  {
   "cell_type": "code",
   "execution_count": null,
   "metadata": {},
   "outputs": [],
   "source": [
    "#no lo optimice, esta lo mas corto que pude hacerlo, colocarle un break o un continue implicaria tambien agregar condicionales pasaria de 8 lineas de codigo a mas de diez \n",
    "#Plano es mejor que anidado. no lo voy a anidar mas de lo necesario para un intervalo fijo"
   ]
  },
  {
   "attachments": {},
   "cell_type": "markdown",
   "metadata": {},
   "source": [
    "12) Aplicando continue, armar un ciclo while que solo imprima los valores divisibles por 12, dentro del rango de números de 100 a 300"
   ]
  },
  {
   "cell_type": "code",
   "execution_count": 31,
   "metadata": {},
   "outputs": [
    {
     "name": "stdout",
     "output_type": "stream",
     "text": [
      "108\n",
      "120\n",
      "132\n",
      "144\n",
      "156\n",
      "168\n",
      "180\n",
      "192\n",
      "204\n",
      "216\n",
      "228\n",
      "240\n",
      "252\n",
      "264\n",
      "276\n",
      "288\n",
      "300\n"
     ]
    }
   ],
   "source": [
    "for i in range(100,301):\n",
    "    while i%12==0:\n",
    "        print(i)\n",
    "        break\n",
    "    continue"
   ]
  },
  {
   "attachments": {},
   "cell_type": "markdown",
   "metadata": {},
   "source": [
    "13) Utilizar la función **input()** que permite hacer ingresos por teclado, para encontrar números primos y dar la opción al usario de buscar el siguiente"
   ]
  },
  {
   "cell_type": "code",
   "execution_count": 32,
   "metadata": {},
   "outputs": [
    {
     "name": "stdout",
     "output_type": "stream",
     "text": [
      "se sale con x\n"
     ]
    }
   ],
   "source": [
    "numero=0\n",
    "print(\"se sale con x\")\n",
    "\n",
    "while numero!=\"x\":\n",
    "    numero = input(\"Ingrese un numero por favor\")\n",
    "    if numero==\"x\":\n",
    "        break\n",
    "\n",
    "\n",
    "    numero=int(numero)\n",
    "\n",
    "    if numero<=0:\n",
    "        print(\"su numero no puede ser menor o igual a cero\")\n",
    "    else:\n",
    "        for i in range(1, numero+1):\n",
    "         primasidad = 0\n",
    "         for j in range(1, numero + 1):\n",
    "                if numero % j == 0:\n",
    "                    primasidad += 1\n",
    "         if primasidad == 2:\n",
    "            print(\"el numero :\", numero, ' es primo')\n",
    "            break\n",
    "        else:\n",
    "            print(numero,\"no es primo\")\n",
    "\n",
    "print(\"fin\")"
   ]
  },
  {
   "cell_type": "code",
   "execution_count": null,
   "metadata": {},
   "outputs": [],
   "source": []
  },
  {
   "attachments": {},
   "cell_type": "markdown",
   "metadata": {},
   "source": [
    "14) Crear un ciclo while que encuentre dentro del rango de 100 a 300 el primer número divisible por 3 y además múltiplo de 6"
   ]
  },
  {
   "cell_type": "code",
   "execution_count": 1,
   "metadata": {},
   "outputs": [
    {
     "name": "stdout",
     "output_type": "stream",
     "text": [
      "102\n"
     ]
    }
   ],
   "source": [
    "base=100\n",
    "while base<=300:\n",
    "    base+=1\n",
    "    if base%3==0 and base%6==0:\n",
    "        print(base)\n",
    "        break"
   ]
  }
 ],
 "metadata": {
  "interpreter": {
   "hash": "c85384e4cb51c8b72350f3a8712cc8351fdc3955e32a27f9b60c6242ab125f01"
  },
  "kernelspec": {
   "display_name": "Python 3 (ipykernel)",
   "language": "python",
   "name": "python3"
  },
  "language_info": {
   "codemirror_mode": {
    "name": "ipython",
    "version": 3
   },
   "file_extension": ".py",
   "mimetype": "text/x-python",
   "name": "python",
   "nbconvert_exporter": "python",
   "pygments_lexer": "ipython3",
   "version": "3.11.4"
  }
 },
 "nbformat": 4,
 "nbformat_minor": 4
}
