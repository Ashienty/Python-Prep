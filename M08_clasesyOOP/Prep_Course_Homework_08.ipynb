{
 "cells": [
  {
   "attachments": {},
   "cell_type": "markdown",
   "metadata": {},
   "source": [
    "## Clases y Programación Orientada a Objetos"
   ]
  },
  {
   "attachments": {},
   "cell_type": "markdown",
   "metadata": {},
   "source": [
    "1) Crear la clase vehículo que contenga los atributos:<br>\n",
    "Color<br>\n",
    "Si es moto, auto, camioneta ó camión<br>\n",
    "Cilindrada del motor"
   ]
  },
  {
   "cell_type": "code",
   "execution_count": 3,
   "metadata": {},
   "outputs": [],
   "source": [
    "class Vehiculo:\n",
    "    def __init__(self,color,tipo,cilindrada):\n",
    "        self.color=color\n",
    "        self.tipo=tipo\n",
    "        self.cilindrada=cilindrada"
   ]
  },
  {
   "attachments": {},
   "cell_type": "markdown",
   "metadata": {},
   "source": [
    "2) A la clase Vehiculo creada en el punto 1, agregar los siguientes métodos:<br>\n",
    "Acelerar<br>\n",
    "Frenar<br>\n",
    "Doblar<br>"
   ]
  },
  {
   "cell_type": "code",
   "execution_count": 4,
   "metadata": {},
   "outputs": [],
   "source": [
    "class Vehiculo:\n",
    "    def __init__(self,color,tipo,cilindrada):\n",
    "        self.color=color\n",
    "        self.tipo=tipo\n",
    "        self.cilindrada=cilindrada\n",
    "    def acelerar(self):\n",
    "        print(\"rum rum\")\n",
    "    def frenar(self):\n",
    "        print(\"chillido\")\n",
    "    def doblar(self):\n",
    "        print(\"wiiiii\")"
   ]
  },
  {
   "attachments": {},
   "cell_type": "markdown",
   "metadata": {},
   "source": [
    "3) Instanciar 3 objetos de la clase vehículo y ejecutar sus métodos, probar luego el resultado"
   ]
  },
  {
   "cell_type": "code",
   "execution_count": 6,
   "metadata": {},
   "outputs": [
    {
     "name": "stdout",
     "output_type": "stream",
     "text": [
      "rum rum\n",
      "chillido\n",
      "wiiiii\n"
     ]
    }
   ],
   "source": [
    "vehiculo1= Vehiculo(\"rojo\",\"auto\",\"ni idea\")\n",
    "vehiculo2= Vehiculo(\"naranja\",\"moto\",\"ni idea\")\n",
    "vehiculo3= Vehiculo(\"amarillo\",\"tractor\",\"ni idea\")\n",
    "vehiculo1.acelerar()\n",
    "vehiculo2.frenar()\n",
    "vehiculo3.doblar()"
   ]
  },
  {
   "attachments": {},
   "cell_type": "markdown",
   "metadata": {},
   "source": [
    "4) Agregar a la clase Vehiculo, un método que muestre su estado, es decir, a que velocidad se encuentra y su dirección. Y otro método que muestre color, tipo y cilindrada"
   ]
  },
  {
   "cell_type": "code",
   "execution_count": 7,
   "metadata": {},
   "outputs": [
    {
     "name": "stdout",
     "output_type": "stream",
     "text": [
      "color:  rojo tipo:  auto vel:  10\n"
     ]
    }
   ],
   "source": [
    "class Vehiculo:\n",
    "    orientacion=0\n",
    "    def __init__(self,color,tipo,cilindrada):\n",
    "        self.color=color\n",
    "        self.tipo=tipo\n",
    "        self.cilindrada=cilindrada\n",
    "        self.velocidad= 0\n",
    "        self.orientacion= 0\n",
    "\n",
    "    def acelerar(self):\n",
    "        self.velocidad +=10\n",
    "    def frenar(self):\n",
    "        print(\"chillido\")\n",
    "    def doblarderecha(self, ):\n",
    "        self.orientacion+=1\n",
    "\n",
    "\n",
    "\n",
    "    def mostrar(self):\n",
    "        return print(\"color: \", self.color,\"tipo: \",self.tipo,\"vel: \", self.velocidad)\n",
    "\n",
    "    \n",
    "\n",
    "\n",
    "auto=Vehiculo(\"rojo\",\"auto\",\"nose\")\n",
    "auto.acelerar()\n",
    "auto.mostrar()"
   ]
  },
  {
   "attachments": {},
   "cell_type": "markdown",
   "metadata": {},
   "source": [
    "5) Crear una clase que permita utilizar las funciones creadas en la práctica del módulo 7<br>\n",
    "Verificar Primo<br>\n",
    "Valor modal<br>\n",
    "Conversión grados<br>\n",
    "Factorial<br>"
   ]
  },
  {
   "cell_type": "code",
   "execution_count": 8,
   "metadata": {},
   "outputs": [
    {
     "name": "stdout",
     "output_type": "stream",
     "text": [
      "120\n"
     ]
    }
   ],
   "source": [
    "class modulo_7:\n",
    "    def primo(numero):\n",
    "        cte = 0\n",
    "        for i in range(2, (numero - 1)):\n",
    "            if numero % i == 0:\n",
    "                cte += 1\n",
    "        if cte == 0:\n",
    "            return True\n",
    "        else:\n",
    "            return False\n",
    "\n",
    "\n",
    "    def ContadorNumeros(numeros):\n",
    "        n = 0\n",
    "        rep = 0\n",
    "        valorComun = 0\n",
    "\n",
    "        for i in numeros:\n",
    "            for j in numeros:\n",
    "                if i == j:\n",
    "                    n += 1\n",
    "\n",
    "                if n > rep:\n",
    "                    rep = n\n",
    "                    valorComun = i\n",
    "\n",
    "            n = 0\n",
    "        print(\"el valor que mas se repite es: \", valorComun)\n",
    "        print(\"se repite \", rep, \" veces\")\n",
    "        return rep, valorComun\n",
    "\n",
    "\n",
    "    def convertidor(temperatura, origen, destino):\n",
    "        if origen == \"C\" and destino == \"F\":\n",
    "            tempeaturaF = (temperatura * (9 / 5)) + 32\n",
    "            print(temperatura, \"°C equibalen a \", tempeaturaF, \"°F\")\n",
    "        elif origen == \"C\" and destino == \"K\":\n",
    "            tempeaturaF = (temperatura + 273.15)\n",
    "            print(temperatura, \"°C equibalen a \", tempeaturaF, \"°K\")\n",
    "\n",
    "\n",
    "    def Factorial(numero):\n",
    "        base = 1\n",
    "        for i in range(1, numero):\n",
    "            base = base + (base * i)\n",
    "        return (base)\n",
    "\n",
    "print(modulo_7.Factorial(5))\n"
   ]
  },
  {
   "attachments": {},
   "cell_type": "markdown",
   "metadata": {},
   "source": [
    "6) Probar las funciones incorporadas en la clase del punto 5"
   ]
  },
  {
   "cell_type": "code",
   "execution_count": 9,
   "metadata": {},
   "outputs": [
    {
     "name": "stdout",
     "output_type": "stream",
     "text": [
      "120\n"
     ]
    }
   ],
   "source": [
    "class modulo_7:\n",
    "    def primo(numero):\n",
    "        cte = 0\n",
    "        for i in range(2, (numero - 1)):\n",
    "            if numero % i == 0:\n",
    "                cte += 1\n",
    "        if cte == 0:\n",
    "            return True\n",
    "        else:\n",
    "            return False\n",
    "\n",
    "\n",
    "    def ContadorNumeros(numeros):\n",
    "        n = 0\n",
    "        rep = 0\n",
    "        valorComun = 0\n",
    "\n",
    "        for i in numeros:\n",
    "            for j in numeros:\n",
    "                if i == j:\n",
    "                    n += 1\n",
    "\n",
    "                if n > rep:\n",
    "                    rep = n\n",
    "                    valorComun = i\n",
    "\n",
    "            n = 0\n",
    "        print(\"el valor que mas se repite es: \", valorComun)\n",
    "        print(\"se repite \", rep, \" veces\")\n",
    "        return rep, valorComun\n",
    "\n",
    "\n",
    "    def convertidor(temperatura, origen, destino):\n",
    "        if origen == \"C\" and destino == \"F\":\n",
    "            tempeaturaF = (temperatura * (9 / 5)) + 32\n",
    "            print(temperatura, \"°C equibalen a \", tempeaturaF, \"°F\")\n",
    "        elif origen == \"C\" and destino == \"K\":\n",
    "            tempeaturaF = (temperatura + 273.15)\n",
    "            print(temperatura, \"°C equibalen a \", tempeaturaF, \"°K\")\n",
    "\n",
    "\n",
    "    def Factorial(numero):\n",
    "        base = 1\n",
    "        for i in range(1, numero):\n",
    "            base = base + (base * i)\n",
    "        return (base)\n",
    "\n",
    "print(modulo_7.Factorial(5))"
   ]
  },
  {
   "attachments": {},
   "cell_type": "markdown",
   "metadata": {},
   "source": [
    "7) Es necesario que la clase creada en el punto 5 contenga una lista, sobre la cual se apliquen las funciones incorporadas"
   ]
  },
  {
   "cell_type": "code",
   "execution_count": null,
   "metadata": {},
   "outputs": [],
   "source": []
  },
  {
   "attachments": {},
   "cell_type": "markdown",
   "metadata": {},
   "source": [
    "8) Crear un archivo .py aparte y ubicar allí la clase generada en el punto anterior. Luego realizar la importación del módulo y probar alguna de sus funciones"
   ]
  },
  {
   "cell_type": "code",
   "execution_count": 13,
   "metadata": {},
   "outputs": [],
   "source": [
    "from pablo import *"
   ]
  }
 ],
 "metadata": {
  "interpreter": {
   "hash": "c85384e4cb51c8b72350f3a8712cc8351fdc3955e32a27f9b60c6242ab125f01"
  },
  "kernelspec": {
   "display_name": "Python 3 (ipykernel)",
   "language": "python",
   "name": "python3"
  },
  "language_info": {
   "codemirror_mode": {
    "name": "ipython",
    "version": 3
   },
   "file_extension": ".py",
   "mimetype": "text/x-python",
   "name": "python",
   "nbconvert_exporter": "python",
   "pygments_lexer": "ipython3",
   "version": "3.11.4"
  }
 },
 "nbformat": 4,
 "nbformat_minor": 4
}
