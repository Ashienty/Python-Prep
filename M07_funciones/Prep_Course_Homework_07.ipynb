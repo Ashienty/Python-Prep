{
 "cells": [
  {
   "attachments": {},
   "cell_type": "markdown",
   "metadata": {},
   "source": [
    "## Funciones"
   ]
  },
  {
   "attachments": {},
   "cell_type": "markdown",
   "metadata": {},
   "source": [
    "1) Crear una función que reciba un número como parámetro y devuelva True si es primo y False si no lo es"
   ]
  },
  {
   "cell_type": "code",
   "execution_count": 1,
   "metadata": {},
   "outputs": [
    {
     "name": "stdout",
     "output_type": "stream",
     "text": [
      "False\n"
     ]
    }
   ],
   "source": [
    "def primo(numero):\n",
    "    cte=0\n",
    "    for i in range(2,(numero-1)):\n",
    "        if numero%i==0:\n",
    "            cte+=1\n",
    "    if cte==0:\n",
    "        return True\n",
    "    else:\n",
    "        return False\n",
    "\n",
    "print(primo(4))\n"
   ]
  },
  {
   "attachments": {},
   "cell_type": "markdown",
   "metadata": {},
   "source": [
    "2) Utilizando la función del punto 1, realizar otra función que reciba de parámetro una lista de números y devuelva sólo aquellos que son primos en otra lista"
   ]
  },
  {
   "cell_type": "code",
   "execution_count": 2,
   "metadata": {},
   "outputs": [
    {
     "name": "stdout",
     "output_type": "stream",
     "text": [
      "7\n",
      "11\n"
     ]
    }
   ],
   "source": [
    "\n",
    "def listaPrimos(numeros):\n",
    "    for i in numeros:\n",
    "        if primo(i):\n",
    "            print(i)\n",
    "numeros=[10,7,11,8]\n",
    "listaPrimos(numeros)"
   ]
  },
  {
   "attachments": {},
   "cell_type": "markdown",
   "metadata": {},
   "source": [
    "3) Crear una función que al recibir una lista de números, devuelva el que más se repite y cuántas veces lo hace. Si hay más de un \"más repetido\", que devuelva cualquiera"
   ]
  },
  {
   "cell_type": "code",
   "execution_count": 3,
   "metadata": {},
   "outputs": [
    {
     "name": "stdout",
     "output_type": "stream",
     "text": [
      "el valor que mas se repite es:  8\n",
      "se repite  12  veces\n",
      "(12, 8)\n"
     ]
    }
   ],
   "source": [
    "numeros=[1,2,2,3,3,3,4,4,4,4,8,8,8,8,8,8,8,8,8,8,8,8]\n",
    "def ContadorNumeros(numeros):\n",
    "    n = 0\n",
    "    rep = 0\n",
    "    valorComun = 0\n",
    "\n",
    "    for i in numeros:\n",
    "        for j in numeros:\n",
    "            if i == j:\n",
    "                n += 1\n",
    "\n",
    "            if n > rep:\n",
    "                rep = n\n",
    "                valorComun = i\n",
    "        \n",
    "        n = 0\n",
    "    print(\"el valor que mas se repite es: \", valorComun)\n",
    "    print(\"se repite \", rep, \" veces\")\n",
    "    return rep,valorComun\n",
    "\n",
    "\n",
    "\n",
    "print(ContadorNumeros(numeros))\n",
    "#en caso que no haya uno mas comun el primero cuenta como cualquiera, random es distinto por ahora "
   ]
  },
  {
   "attachments": {},
   "cell_type": "markdown",
   "metadata": {},
   "source": [
    "4) Crear una función que convierta entre grados Celsius, Farenheit y Kelvin<br>\n",
    "Fórmula 1\t: (°C × 9/5) + 32 = °F<br>\n",
    "Fórmula 2\t: °C + 273.15 = °K<br>\n",
    "Debe recibir 3 parámetros: el valor, la medida de orígen y la medida de destino\n"
   ]
  },
  {
   "cell_type": "code",
   "execution_count": 4,
   "metadata": {},
   "outputs": [
    {
     "name": "stdout",
     "output_type": "stream",
     "text": [
      "100 °C equibalen a  373.15 °K\n"
     ]
    }
   ],
   "source": [
    "def convertidor(temperatura,origen,destino):\n",
    "    if origen==\"C\" and destino==\"F\":\n",
    "        tempeaturaF=(temperatura*(9/5))+32\n",
    "        print(temperatura,\"°C equibalen a \",tempeaturaF,\"°F\")\n",
    "    elif origen==\"C\" and destino==\"K\":\n",
    "        tempeaturaF=(temperatura+ 273.15)\n",
    "        print(temperatura,\"°C equibalen a \",tempeaturaF,\"°K\")\n",
    "convertidor(100,\"C\",\"K\")\n",
    "#esta un poco simple si, y no mescle la ecuaciones para poder hacer de K a F o inversa "
   ]
  },
  {
   "attachments": {},
   "cell_type": "markdown",
   "metadata": {},
   "source": [
    "5) Iterando una lista con los tres valores posibles de temperatura que recibe la función del punto 5, hacer un print para cada combinación de los mismos:"
   ]
  },
  {
   "cell_type": "code",
   "execution_count": null,
   "metadata": {},
   "outputs": [],
   "source": []
  },
  {
   "attachments": {},
   "cell_type": "markdown",
   "metadata": {},
   "source": [
    "6) Armar una función que devuelva el factorial de un número. Tener en cuenta que el usuario puede equivocarse y enviar de parámetro un número no entero o negativo"
   ]
  },
  {
   "cell_type": "code",
   "execution_count": 5,
   "metadata": {},
   "outputs": [
    {
     "name": "stdout",
     "output_type": "stream",
     "text": [
      "40320\n"
     ]
    }
   ],
   "source": [
    "def Factorial(numero):\n",
    "    if numero == 0 or numero == 1:\n",
    "        return 1\n",
    "    else:\n",
    "        return numero * Factorial(numero - 1)\n",
    "print(Factorial(8))"
   ]
  }
 ],
 "metadata": {
  "interpreter": {
   "hash": "c85384e4cb51c8b72350f3a8712cc8351fdc3955e32a27f9b60c6242ab125f01"
  },
  "kernelspec": {
   "display_name": "Python 3 (ipykernel)",
   "language": "python",
   "name": "python3"
  },
  "language_info": {
   "codemirror_mode": {
    "name": "ipython",
    "version": 3
   },
   "file_extension": ".py",
   "mimetype": "text/x-python",
   "name": "python",
   "nbconvert_exporter": "python",
   "pygments_lexer": "ipython3",
   "version": "3.11.4"
  }
 },
 "nbformat": 4,
 "nbformat_minor": 4
}
